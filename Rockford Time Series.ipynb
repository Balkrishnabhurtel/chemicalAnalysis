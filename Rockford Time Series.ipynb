{
 "cells": [
  {
   "cell_type": "code",
   "execution_count": 2,
   "id": "1d0c10dd",
   "metadata": {},
   "outputs": [],
   "source": [
    "import pandas as pd\n",
    "import scipy.stats as stats\n",
    "import matplotlib.pyplot as plt\n",
    "from statsmodels.multivariate.manova import MANOVA\n",
    "import statsmodels  as sm\n",
    "from statsmodels.formula.api import ols\n",
    "from statsmodels.stats.anova import anova_lm\n",
    "from typing import Literal\n",
    "from statsmodels.graphics.factorplots import interaction_plot\n",
    "import statsmodels.stats.multicomp as multi\n",
    "import seaborn as sns\n",
    "import statsmodels as sm\n",
    "from statsmodels.stats.anova import anova_lm"
   ]
  },
  {
   "cell_type": "code",
   "execution_count": 16,
   "id": "f89504ec",
   "metadata": {},
   "outputs": [
    {
     "name": "stdout",
     "output_type": "stream",
     "text": [
      "     Rep  Trt Depth  WW19  SW19  WW20  SW20\n",
      "0      1    1   0-3  3.96  4.02  4.03  4.29\n",
      "1      2    1   0-3  3.81  4.05  4.17  4.02\n",
      "2      3    1   0-3  3.83  4.05  4.16  4.05\n",
      "3      4    1   0-3  3.78  3.96  4.07  4.22\n",
      "4      1    1   3-6  3.69  3.72  3.80  3.98\n",
      "5      2    1   3-6  3.65  3.76  3.81  3.79\n",
      "6      3    1   3-6  3.75  3.78  3.93  3.85\n",
      "7      4    1   3-6  3.84  3.82  3.94  4.00\n",
      "8      1    1  6-12  4.22  4.08  7.15  3.87\n",
      "9      2    1  6-12  4.03  4.09  5.09  3.77\n",
      "10     3    1  6-12  4.28  4.13  4.78  4.11\n",
      "11     4    1  6-12  4.12  4.12  4.98  4.20\n",
      "12     1    2   0-3  4.98  5.46  5.56  5.26\n",
      "13     2    2   0-3  4.47  5.69  5.78  4.86\n",
      "14     3    2   0-3  4.68  4.92  5.00  5.02\n",
      "15     4    2   0-3  4.25  5.26  5.68  4.97\n",
      "16     1    2   3-6  3.77  4.08  4.15  4.21\n",
      "17     2    2   3-6  3.86  3.74  3.90  3.86\n",
      "18     3    2   3-6  4.05  3.79  3.87  3.95\n",
      "19     4    2   3-6  3.90  3.85  3.95  4.15\n",
      "20     1    2  6-12  4.04  4.01  7.14  3.96\n",
      "21     2    2  6-12  4.38  4.04  5.58  3.88\n",
      "22     3    2  6-12  4.23  4.16  4.86  3.93\n",
      "23     4    2  6-12  4.21  4.25  5.02  4.18\n",
      "24     1    3   0-3  5.76  5.87   NaN  5.56\n",
      "25     2    3   0-3  4.80  5.41   NaN  5.49\n",
      "26     3    3   0-3  4.59  5.90  6.10  5.94\n",
      "27     4    3   0-3  4.22  5.59  6.01  6.02\n",
      "28     1    3   3-6  3.70  4.87  4.95  4.03\n",
      "29     2    3   3-6  3.75  3.77  3.88  3.77\n",
      "30     3    3   3-6  4.09  3.92  4.03  4.44\n",
      "31     4    3   3-6  3.71  3.75  3.87  4.52\n",
      "32     1    3  6-12  4.07  4.06  6.21  3.94\n",
      "33     2    3  6-12  4.11  4.15  5.36  3.78\n",
      "34     3    3  6-12  4.32  4.22  4.77  4.03\n",
      "35     4    3  6-12  4.21  4.11  4.89  4.12\n",
      "36     1    4   0-3  4.10  3.85  3.91   NaN\n",
      "37     2    4   0-3  4.29  4.04  4.13  4.11\n",
      "38     3    4   0-3  3.64  4.06  4.10  4.08\n",
      "39     4    4   0-3  4.06  4.98   NaN  4.47\n",
      "40     1    4   3-6  3.66  3.70  3.74  3.85\n",
      "41     2    4   3-6  3.85  3.80  3.96  3.82\n",
      "42     3    4   3-6  4.00  3.81  3.92  3.92\n",
      "43     4    4   3-6  3.78  3.83  4.04  3.94\n",
      "44     1    4  6-12  4.02  4.29  7.05  3.88\n",
      "45     2    4  6-12  4.24  4.19  5.14  3.93\n",
      "46     3    4  6-12  5.19  3.99  4.84  4.15\n",
      "47     4    4  6-12  3.97  4.22  5.16  3.99\n",
      "48     1    5   0-3  4.66  5.45  5.50  4.98\n",
      "49     2    5   0-3  4.55  6.11  6.34  4.99\n",
      "50     3    5   0-3  3.43  5.35   NaN  5.30\n",
      "51     4    5   0-3  5.22  5.93  5.94  5.57\n",
      "52     1    5   3-6  3.69  3.75  3.79  3.92\n",
      "53     2    5   3-6  4.03  3.84  3.95  3.86\n",
      "54     3    5   3-6  3.73  3.75  3.88  4.27\n",
      "55     4    5   3-6  4.09  3.99  4.12  4.15\n",
      "56     1    5  6-12  4.11  3.94  5.97  3.82\n",
      "57     2    5  6-12  4.09  4.02  4.98  3.81\n",
      "58     3    5  6-12  3.98  4.19  4.88  4.27\n",
      "59     4    5  6-12  4.26  4.20  4.74  4.20\n",
      "60     1    6   0-3  5.36  4.95  5.03  5.87\n",
      "61     2    6   0-3  4.72  5.55  5.74  5.78\n",
      "62     3    6   0-3  4.80  6.31  6.38  5.55\n",
      "63     4    6   0-3  4.74  5.57  5.76  5.81\n",
      "64     1    6   3-6  3.71  3.67  3.70  4.21\n",
      "65     2    6   3-6  3.84  3.80  3.89  3.91\n",
      "66     3    6   3-6  3.79  4.10  4.22  3.97\n",
      "67     4    6   3-6  3.79  3.78  4.00  4.93\n",
      "68     1    6  6-12  4.14  4.28  5.00  3.91\n",
      "69     2    6  6-12  4.31  4.11  4.97  3.92\n",
      "70     3    6  6-12  3.94  3.98  5.07  4.26\n",
      "71     4    6  6-12  4.37  4.34  4.93  3.98\n",
      "72     1    7   0-3  3.91  3.87  3.91  4.20\n",
      "73     2    7   0-3  4.05  3.92  4.11  4.02\n",
      "74     3    7   0-3  4.04  4.08  4.13  4.18\n",
      "75     4    7   0-3  3.33  3.90  4.07  4.24\n",
      "76     1    7   3-6  3.76  3.71  3.77  3.82\n",
      "77     2    7   3-6  3.61  3.78   NaN  3.87\n",
      "78     3    7   3-6  3.51  3.86  3.94  3.97\n",
      "79     4    7   3-6  3.61  3.72  3.85  3.90\n",
      "80     1    7  6-12  3.88  3.89  4.92  4.07\n",
      "81     2    7  6-12  4.23  4.22  5.06  3.95\n",
      "82     3    7  6-12  4.16  4.12  5.06  4.23\n",
      "83     4    7  6-12  3.64  3.93  4.75  4.12\n",
      "84     1    8   0-3  4.96  4.83  4.88  5.38\n",
      "85     2    8   0-3  5.20  5.85  5.97  4.51\n",
      "86     3    8   0-3  5.16  5.10  5.16  4.80\n",
      "87     4    8   0-3  4.26  5.08  5.16  5.49\n",
      "88     1    8   3-6  3.95  3.71  3.77  4.33\n",
      "89     2    8   3-6  3.95  3.79   NaN  3.73\n",
      "90     3    8   3-6  3.82  3.84  4.00  3.93\n",
      "91     4    8   3-6  3.75  3.75  3.84  4.70\n",
      "92     1    8  6-12  4.10  4.14  5.40  4.14\n",
      "93     2    8  6-12  4.24  4.12  4.95  3.98\n",
      "94     3    8  6-12  3.95  4.02  4.99  4.23\n",
      "95     4    8  6-12  3.56  4.20  5.09  4.18\n",
      "96     1    9   0-3  4.51  6.34   NaN   NaN\n",
      "97     2    9   0-3  4.83  5.73  6.06  6.02\n",
      "98     3    9   0-3  5.29  6.17  6.27  5.48\n",
      "99     4    9   0-3  5.20  5.77  6.14  5.75\n",
      "100    1    9   3-6  3.65  4.35  4.34  4.32\n",
      "101    2    9   3-6  3.79  3.83  3.91  4.11\n",
      "102    3    9   3-6  3.80  3.87  3.96  3.95\n",
      "103    4    9   3-6  3.81  3.73  3.96  4.41\n",
      "104    1    9  6-12  4.08  4.18  5.53  3.83\n",
      "105    2    9  6-12  3.94  4.13  5.02  3.92\n",
      "106    3    9  6-12  4.19  4.10  4.80  4.09\n",
      "107    4    9  6-12  4.17  4.06  4.95  4.32\n"
     ]
    }
   ],
   "source": [
    "df=pd.read_excel('Time Series.xlsx')\n",
    "pd.set_option('display.max_rows',None)\n",
    "print(df)"
   ]
  },
  {
   "cell_type": "code",
   "execution_count": 4,
   "id": "4f87299f",
   "metadata": {},
   "outputs": [
    {
     "data": {
      "text/html": [
       "<div>\n",
       "<style scoped>\n",
       "    .dataframe tbody tr th:only-of-type {\n",
       "        vertical-align: middle;\n",
       "    }\n",
       "\n",
       "    .dataframe tbody tr th {\n",
       "        vertical-align: top;\n",
       "    }\n",
       "\n",
       "    .dataframe thead th {\n",
       "        text-align: right;\n",
       "    }\n",
       "</style>\n",
       "<table border=\"1\" class=\"dataframe\">\n",
       "  <thead>\n",
       "    <tr style=\"text-align: right;\">\n",
       "      <th></th>\n",
       "      <th>Rep</th>\n",
       "      <th>Trt</th>\n",
       "      <th>Depth</th>\n",
       "      <th>WW19</th>\n",
       "      <th>SW19</th>\n",
       "      <th>WW20</th>\n",
       "      <th>SW20</th>\n",
       "    </tr>\n",
       "  </thead>\n",
       "  <tbody>\n",
       "    <tr>\n",
       "      <th>0</th>\n",
       "      <td>1</td>\n",
       "      <td>1</td>\n",
       "      <td>0-3</td>\n",
       "      <td>3.96</td>\n",
       "      <td>4.02</td>\n",
       "      <td>4.03</td>\n",
       "      <td>4.29</td>\n",
       "    </tr>\n",
       "    <tr>\n",
       "      <th>1</th>\n",
       "      <td>2</td>\n",
       "      <td>1</td>\n",
       "      <td>0-3</td>\n",
       "      <td>3.81</td>\n",
       "      <td>4.05</td>\n",
       "      <td>4.17</td>\n",
       "      <td>4.02</td>\n",
       "    </tr>\n",
       "    <tr>\n",
       "      <th>2</th>\n",
       "      <td>3</td>\n",
       "      <td>1</td>\n",
       "      <td>0-3</td>\n",
       "      <td>3.83</td>\n",
       "      <td>4.05</td>\n",
       "      <td>4.16</td>\n",
       "      <td>4.05</td>\n",
       "    </tr>\n",
       "    <tr>\n",
       "      <th>3</th>\n",
       "      <td>4</td>\n",
       "      <td>1</td>\n",
       "      <td>0-3</td>\n",
       "      <td>3.78</td>\n",
       "      <td>3.96</td>\n",
       "      <td>4.07</td>\n",
       "      <td>4.22</td>\n",
       "    </tr>\n",
       "    <tr>\n",
       "      <th>4</th>\n",
       "      <td>1</td>\n",
       "      <td>1</td>\n",
       "      <td>3-6</td>\n",
       "      <td>3.69</td>\n",
       "      <td>3.72</td>\n",
       "      <td>3.80</td>\n",
       "      <td>3.98</td>\n",
       "    </tr>\n",
       "    <tr>\n",
       "      <th>...</th>\n",
       "      <td>...</td>\n",
       "      <td>...</td>\n",
       "      <td>...</td>\n",
       "      <td>...</td>\n",
       "      <td>...</td>\n",
       "      <td>...</td>\n",
       "      <td>...</td>\n",
       "    </tr>\n",
       "    <tr>\n",
       "      <th>103</th>\n",
       "      <td>4</td>\n",
       "      <td>9</td>\n",
       "      <td>3-6</td>\n",
       "      <td>3.81</td>\n",
       "      <td>3.73</td>\n",
       "      <td>3.96</td>\n",
       "      <td>4.41</td>\n",
       "    </tr>\n",
       "    <tr>\n",
       "      <th>104</th>\n",
       "      <td>1</td>\n",
       "      <td>9</td>\n",
       "      <td>6-12</td>\n",
       "      <td>4.08</td>\n",
       "      <td>4.18</td>\n",
       "      <td>5.53</td>\n",
       "      <td>3.83</td>\n",
       "    </tr>\n",
       "    <tr>\n",
       "      <th>105</th>\n",
       "      <td>2</td>\n",
       "      <td>9</td>\n",
       "      <td>6-12</td>\n",
       "      <td>3.94</td>\n",
       "      <td>4.13</td>\n",
       "      <td>5.02</td>\n",
       "      <td>3.92</td>\n",
       "    </tr>\n",
       "    <tr>\n",
       "      <th>106</th>\n",
       "      <td>3</td>\n",
       "      <td>9</td>\n",
       "      <td>6-12</td>\n",
       "      <td>4.19</td>\n",
       "      <td>4.10</td>\n",
       "      <td>4.80</td>\n",
       "      <td>4.09</td>\n",
       "    </tr>\n",
       "    <tr>\n",
       "      <th>107</th>\n",
       "      <td>4</td>\n",
       "      <td>9</td>\n",
       "      <td>6-12</td>\n",
       "      <td>4.17</td>\n",
       "      <td>4.06</td>\n",
       "      <td>4.95</td>\n",
       "      <td>4.32</td>\n",
       "    </tr>\n",
       "  </tbody>\n",
       "</table>\n",
       "<p>108 rows × 7 columns</p>\n",
       "</div>"
      ],
      "text/plain": [
       "     Rep  Trt Depth  WW19  SW19  WW20  SW20\n",
       "0      1    1   0-3  3.96  4.02  4.03  4.29\n",
       "1      2    1   0-3  3.81  4.05  4.17  4.02\n",
       "2      3    1   0-3  3.83  4.05  4.16  4.05\n",
       "3      4    1   0-3  3.78  3.96  4.07  4.22\n",
       "4      1    1   3-6  3.69  3.72  3.80  3.98\n",
       "..   ...  ...   ...   ...   ...   ...   ...\n",
       "103    4    9   3-6  3.81  3.73  3.96  4.41\n",
       "104    1    9  6-12  4.08  4.18  5.53  3.83\n",
       "105    2    9  6-12  3.94  4.13  5.02  3.92\n",
       "106    3    9  6-12  4.19  4.10  4.80  4.09\n",
       "107    4    9  6-12  4.17  4.06  4.95  4.32\n",
       "\n",
       "[108 rows x 7 columns]"
      ]
     },
     "execution_count": 4,
     "metadata": {},
     "output_type": "execute_result"
    }
   ],
   "source": [
    "df"
   ]
  },
  {
   "cell_type": "markdown",
   "id": "e5fef420",
   "metadata": {},
   "source": [
    "# **Data Visualization**"
   ]
  },
  {
   "cell_type": "markdown",
   "id": "134cf405",
   "metadata": {},
   "source": [
    "**1.Scatter plot**"
   ]
  },
  {
   "cell_type": "code",
   "execution_count": 5,
   "id": "0021fcc5",
   "metadata": {},
   "outputs": [
    {
     "data": {
      "image/png": "[encoded data removed]",
      "text/plain": [
       "<Figure size 418.75x360 with 1 Axes>"
      ]
     },
     "metadata": {
      "needs_background": "light"
     },
     "output_type": "display_data"
    },
    {
     "data": {
      "image/png": "[encoded data removed]",
      "text/plain": [
       "<Figure size 418.75x360 with 1 Axes>"
      ]
     },
     "metadata": {
      "needs_background": "light"
     },
     "output_type": "display_data"
    },
    {
     "data": {
      "image/png": "[encoded data removed]",
      "text/plain": [
       "<Figure size 418.75x360 with 1 Axes>"
      ]
     },
     "metadata": {
      "needs_background": "light"
     },
     "output_type": "display_data"
    },
    {
     "data": {
      "image/png": "[encoded data removed]",
      "text/plain": [
       "<Figure size 418.75x360 with 1 Axes>"
      ]
     },
     "metadata": {
      "needs_background": "light"
     },
     "output_type": "display_data"
    }
   ],
   "source": [
    "\n",
    "f1=sns.catplot(x='Trt',y='WW19',hue='Depth',data=df)\n",
    "f2=sns.catplot(x='Trt',y='SW19',hue='Depth',data=df)\n",
    "f3=sns.catplot(x='Trt',y='WW20',hue='Depth',data=df)\n",
    "f4=sns.catplot(x='Trt',y='SW20',hue='Depth',data=df)\n",
    "plt.show()"
   ]
  },
  {
   "cell_type": "markdown",
   "id": "6be404f4",
   "metadata": {},
   "source": [
    "How our PH value are distributed as time series. "
   ]
  },
  {
   "cell_type": "markdown",
   "id": "f160c910",
   "metadata": {},
   "source": [
    "**Box Plot**"
   ]
  },
  {
   "cell_type": "code",
   "execution_count": 18,
   "id": "ada12f9b",
   "metadata": {
    "scrolled": true
   },
   "outputs": [
    {
     "data": {
      "image/png": "[encoded data removed]",
      "text/plain": [
       "<Figure size 1080x720 with 4 Axes>"
      ]
     },
     "metadata": {},
     "output_type": "display_data"
    }
   ],
   "source": [
    "sns.set_palette('tab10')  \n",
    "f , axes = plt.subplots(nrows=2, ncols=2, figsize = (15,10))\n",
    "sns.set_style(\"darkgrid\")\n",
    "f1=sns.boxplot(x='Trt',y='WW19',hue='Depth',data=df, ax=axes[0,0])\n",
    "f2=sns.boxplot(x='Trt',y='SW19',hue='Depth',data=df,ax=axes[0,1])\n",
    "f3=sns.boxplot(x='Trt',y='WW20',hue='Depth',data=df,ax=axes[1,0])\n",
    "f4=sns.boxplot(x='Trt',y='SW20',hue='Depth',data=df,ax=axes[1,1])\n",
    "plt.show()"
   ]
  },
  {
   "cell_type": "markdown",
   "id": "0497d632",
   "metadata": {},
   "source": [
    "Box plot visualize how the mean distribution is distributed."
   ]
  },
  {
   "cell_type": "markdown",
   "id": "a5f359bf",
   "metadata": {},
   "source": [
    "**MANOVA TABLE**"
   ]
  },
  {
   "cell_type": "code",
   "execution_count": null,
   "id": "a7eedb97",
   "metadata": {
    "scrolled": true
   },
   "outputs": [],
   "source": [
    "maov = MANOVA.from_formula('WW19 + SW19 + WW20 + SW20 ~ Depth + Trt + Trt:Depth',data = df)\n",
    "print(maov.mv_test())"
   ]
  },
  {
   "cell_type": "markdown",
   "id": "c0225994",
   "metadata": {},
   "source": [
    "The different names given to each row (namely, Pillai's Trace, Wilks' Lambda, Hotelling's Trace and Roy's Largest Root) are the names of the different multivariate test statistics that can be used to test the statistical significance of the different effects of the independent variables. The most commonly recommended multivariate statistic to use is Wilks' Lambda (Λ)."
   ]
  },
  {
   "cell_type": "markdown",
   "id": "d931c8f5",
   "metadata": {},
   "source": [
    "**From box plot also we can see the different**\n",
    "\n",
    "DEPTH:\n",
    "We can see that p = .000 (i.e., the Wilks' Lambda in Depth) Indicates that Depth significantly affects the combined DV (WW19,SW19,WW20 and SW20). This means that the effect of the PH Depth on the dependent variables is not the same. I.E There is at least one mean vector different between the depth.(Which one can be done throw univariate analysis).\n",
    "\n",
    "Treatment:\n",
    "\n",
    "In treatment pvalue is 0.0039,indicates that Treatment significantly affects the combined DV .We can say there is significant different in means vector of each level of treatment.\n",
    "\n",
    "Interaction:\n",
    "\n",
    "In above table interaction term is significant, the effects of Treatment are different at each level of the other factor(Depth) across all DV in our model.\n",
    "\n"
   ]
  },
  {
   "cell_type": "markdown",
   "id": "8c072613",
   "metadata": {},
   "source": [
    " **PROFIL PLOT**"
   ]
  },
  {
   "cell_type": "code",
   "execution_count": null,
   "id": "9c50197a",
   "metadata": {
    "scrolled": true
   },
   "outputs": [],
   "source": [
    "f , axes = plt.subplots(nrows=2, ncols=2, figsize = (15,10))\n",
    "sns.set_style(\"darkgrid\")\n",
    "fig1 = interaction_plot(x=df['Trt'], trace=df['Depth'], response=df['WW19'], ax=axes[0,0],colors=['#4c061d','#d17a22', '#b4c292'])\n",
    "fig2 = interaction_plot(x=df['Trt'], trace=df['Depth'], response=df['SW19'],ax=axes[0,1], colors=['#4c061d','#d17a22', '#b4c292'])\n",
    "fig3 = interaction_plot(x=df['Trt'], trace=df['Depth'], response=df['WW20'],ax=axes[1,0], colors=['#4c061d','#d17a22', '#b4c292'])\n",
    "fig4= interaction_plot(x=df['Trt'], trace=df['Depth'], response=df['SW20'], ax=axes[1,1],colors=['#4c061d','#d17a22', '#b4c292'])\n",
    "plt.show()"
   ]
  },
  {
   "cell_type": "markdown",
   "id": "f1f4405c",
   "metadata": {},
   "source": [
    "The interaction plot helps to visualize the means of the response of the two factors (Treatment and Depth) on one graph. \n",
    "The X-axis have a factor of Treatment  with ,1,2,3,4,5,6,7,8,9 levels.\n",
    "\n",
    "1.This profil plot above just shows 27 mean value of Ph Depth. \n",
    "\n",
    "2. Intresting, it also shows how treatment and Ph Depth affect the mean. The interaction effect means the effect of one factor depend upon other factor, which is shown by profil plot not running parallel.\n",
    "\n",
    "3. Treatment affect Ph Depth 0-3 diffrently than ph depth 3-6 and ph depth 6-12.\n",
    "\n",
    "4. Roughly, we see brown lines goes up and down.Since, Treatment varies with Depth 0-3. Also green line and orange line are straight.So, Treatment have almost same effect in Ph depth 3-6 and 6-12. \n",
    "\n",
    "\n",
    "Parallel lines: No interaction occurs.\n",
    "Nonparallel lines: An interaction occurs. The more nonparallel the lines are, the greater the strength of the interaction.\n",
    "\n",
    "\n",
    "*For a more reliable conclusion of the interaction plot,  we will analysis Post hoc test separately*"
   ]
  },
  {
   "cell_type": "markdown",
   "id": "91b3fb06",
   "metadata": {},
   "source": [
    "We can prove the manova table result from the profil plot."
   ]
  },
  {
   "cell_type": "markdown",
   "id": "1d3a8e41",
   "metadata": {},
   "source": [
    "# Univariate analysis of Each Dependent variable of Time Series."
   ]
  },
  {
   "cell_type": "markdown",
   "id": "905b9897",
   "metadata": {},
   "source": [
    "**First Table is for WW19**\n",
    "\n",
    "**Second Table FOr SW19**\n",
    "\n",
    "**Third Table For WW2020**\n",
    "\n",
    "**Fourth table for SW20**\n",
    "\n",
    "  \n",
    "  \n",
    "  "
   ]
  },
  {
   "cell_type": "code",
   "execution_count": null,
   "id": "02f1142c",
   "metadata": {},
   "outputs": [],
   "source": [
    " "
   ]
  },
  {
   "cell_type": "code",
   "execution_count": null,
   "id": "a6ed2ac8",
   "metadata": {},
   "outputs": [],
   "source": [
    " formula = 'WW19 ~  Trt +Depth+ Trt:Depth'\n",
    "model = ols(formula,df).fit()\n",
    "aov_table = anova_lm(model,typ=2)\n",
    "print('ANOVA TABLE FOR WINTER WHEAT 2019' )\n",
    "print(aov_table.round(4))\n",
    "print('/n')\n",
    "formula = 'SW19 ~  Trt +Depth+ Trt:Depth'\n",
    "model = ols(formula,df).fit()\n",
    "aov_table = anova_lm(model,typ=2)\n",
    "print('ANOVA TABLE FOR SPRING WHEAT 2019')\n",
    "print(aov_table.round(4))\n",
    "print('/n')\n",
    "formula = 'WW20 ~  Trt +Depth+ Trt:Depth'\n",
    "model = ols(formula,df).fit()\n",
    "aov_table = anova_lm(model,typ=2)\n",
    "print('ANOVA TABLE FOR 2019 Winter WHEAT 2020')\n",
    "print(aov_table.round(4))\n",
    "\n",
    "print('/n')\n",
    "formula = 'SW20 ~  Trt +Depth+ Trt:Depth'\n",
    "model = ols(formula,df).fit()\n",
    "aov_table = anova_lm(model,typ=2)\n",
    "print('ANOVA TABLE FOR 2019 Spring WHEAT 2020')\n",
    "print(aov_table.round(4))"
   ]
  },
  {
   "cell_type": "markdown",
   "id": "805691e6",
   "metadata": {},
   "source": [
    "**Dependent Variable WW19.**\n",
    "\n"
   ]
  },
  {
   "cell_type": "markdown",
   "id": "cfcddcf7",
   "metadata": {},
   "source": [
    "DEPTH: We reject Null Hypothesis.\n",
    "From table we conclude that there is stastically significant different between the mean value of depth. I.E mean Ph value varies with respect to depth.\n",
    "\n",
    "Treatment:We null Hypothesis\n",
    "we see that p value of treatment is 0.3646. I.E mean value of each treatment level are same.\n",
    "\n",
    "Interaction effect.\n",
    "Interaction effect is significant between the Dependent variable.Because the interaction effect between Treatment and Depth is statistically significant, we cannot interpret the main effects without considering the interaction effect. Lets analysis interaction effect through profil plot.\n",
    "(Describe from above profil plot)"
   ]
  },
  {
   "cell_type": "markdown",
   "id": "8fe5d5ba",
   "metadata": {},
   "source": [
    "**Dependent Variable SW19.**"
   ]
  },
  {
   "cell_type": "markdown",
   "id": "4119c4a1",
   "metadata": {},
   "source": [
    "DEPTH: We reject Null Hypothesis.\n",
    "From table we conclude that there is stastically significant different between the mean value of depth. I.E mean Ph value varies with respect to depth.\n",
    "\n",
    "Treatment:We null Hypothesis\n",
    "we see that p value of treatment is 0.1147. I.E mean value of each treatment level are same.\n",
    "\n",
    "Interaction effect.\n",
    "Interaction effect is not significant between the Dependent variable. we can interpret the main effects of Depth. From Graph aslo we can see there is no cross between the graph. Lets analysis interaction effect through profil plot.\n",
    "(Describe from above profil plot)"
   ]
  },
  {
   "cell_type": "markdown",
   "id": "8e510001",
   "metadata": {},
   "source": [
    "**Dependent Variable WW20.**"
   ]
  },
  {
   "cell_type": "markdown",
   "id": "6ca8f9d7",
   "metadata": {},
   "source": [
    "DEpth: Stastically significant.\n",
    "\n",
    "\n",
    "Treatment: Mean between different level of treatment are equal.\n",
    "\n",
    "\n",
    "Intreaction:Interaction effect is significant between the Dependent variable.Because the interaction effect between Treatment and Depth is statistically significant, we cannot interpret the main effects without considering the interaction effect. Lets analysis interaction effect through profil plot."
   ]
  },
  {
   "cell_type": "markdown",
   "id": "9686ac6a",
   "metadata": {},
   "source": [
    "**Dependent Variable SW20**."
   ]
  },
  {
   "cell_type": "markdown",
   "id": "ee4ad179",
   "metadata": {},
   "source": [
    "Depth:\n",
    "There is at least one significant different between mean of Depth.\n",
    "\n",
    "Treatment:\n",
    "There is at least one significant different between mean of different treatment.\n",
    "\n",
    "Interaction Efffect: No interaction effect.\n"
   ]
  },
  {
   "cell_type": "markdown",
   "id": "3824febb",
   "metadata": {},
   "source": [
    "# Multiple pairwise comparisons (Post-hoc test)"
   ]
  },
  {
   "cell_type": "markdown",
   "id": "ebfed519",
   "metadata": {},
   "source": [
    "# **1.Dependent Variable WW19.**"
   ]
  },
  {
   "cell_type": "markdown",
   "id": "f8f1b0bd",
   "metadata": {},
   "source": [
    "**Post-Hoc Comparisons, Depth**"
   ]
  },
  {
   "cell_type": "code",
   "execution_count": null,
   "id": "06b28d7f",
   "metadata": {
    "scrolled": true
   },
   "outputs": [],
   "source": [
    " tukey=sm.stats.multicomp.pairwise_tukeyhsd(endog=df['WW19'],\n",
    " groups=df['Depth'],\n",
    " alpha=0.05)\n",
    "tukey.plot_simultaneous()\n",
    "print(tukey.summary()) "
   ]
  },
  {
   "cell_type": "markdown",
   "id": "d87f6ef9",
   "metadata": {},
   "source": [
    "**Post-Hoc Comparisons, Treatment**"
   ]
  },
  {
   "cell_type": "code",
   "execution_count": null,
   "id": "83792ae5",
   "metadata": {},
   "outputs": [],
   "source": [
    " tukey=sm.stats.multicomp.pairwise_tukeyhsd(endog=df['WW19'],\n",
    " groups=df['Trt'],\n",
    " alpha=0.05)\n",
    "tukey.plot_simultaneous()\n",
    "print(tukey.summary())  "
   ]
  },
  {
   "cell_type": "markdown",
   "id": "635443f4",
   "metadata": {},
   "source": [
    "**Post-Hoc Comparisons, Interaction**"
   ]
  },
  {
   "cell_type": "code",
   "execution_count": null,
   "id": "72ea56bc",
   "metadata": {},
   "outputs": [],
   "source": [
    " df[\"combine\"] = df[\"Trt\"].astype(str)+'_' + df[\"Depth\"].astype(str)\n",
    "tukey=sm.stats.multicomp.pairwise_tukeyhsd(endog=df['WW19'],\n",
    " groups=df['combine'],\n",
    " alpha=0.05)\n",
    "print(tukey.summary())\n",
    "tukey.plot_simultaneous()"
   ]
  },
  {
   "cell_type": "markdown",
   "id": "42ba24b9",
   "metadata": {},
   "source": [
    "# 2.Dependent Variable SW19"
   ]
  },
  {
   "cell_type": "markdown",
   "id": "d7d076b5",
   "metadata": {},
   "source": [
    "**Post-Hoc Comparisons, Depth**"
   ]
  },
  {
   "cell_type": "code",
   "execution_count": null,
   "id": "28dc9af8",
   "metadata": {},
   "outputs": [],
   "source": [
    "tukey=sm.stats.multicomp.pairwise_tukeyhsd(endog=df['SW19'],\n",
    " groups=df['Depth'],\n",
    " alpha=0.05)\n",
    "tukey.plot_simultaneous()\n",
    "print(tukey.summary())"
   ]
  },
  {
   "cell_type": "markdown",
   "id": "2f90893d",
   "metadata": {},
   "source": [
    "**Post-Hoc Comparisons, Treatment**"
   ]
  },
  {
   "cell_type": "code",
   "execution_count": null,
   "id": "1522c1f6",
   "metadata": {},
   "outputs": [],
   "source": [
    " tukey=sm.stats.multicomp.pairwise_tukeyhsd(endog=df['WW19'],\n",
    " groups=df['Trt'],\n",
    " alpha=0.05)\n",
    "tukey.plot_simultaneous()\n",
    "print(tukey.summary())  "
   ]
  },
  {
   "cell_type": "markdown",
   "id": "dc134ed2",
   "metadata": {},
   "source": [
    "**Post-Hoc Comparisons, Interaction**"
   ]
  },
  {
   "cell_type": "code",
   "execution_count": null,
   "id": "09774a0a",
   "metadata": {},
   "outputs": [],
   "source": [
    " df[\"combine\"] = df[\"Trt\"].astype(str)+'_' + df[\"Depth\"].astype(str)\n",
    "tukey=sm.stats.multicomp.pairwise_tukeyhsd(endog=df['SW19'],\n",
    " groups=df['combine'],\n",
    " alpha=0.05)\n",
    "print(tukey.summary())\n",
    "tukey.plot_simultaneous()"
   ]
  },
  {
   "cell_type": "markdown",
   "id": "b7f9a0ba",
   "metadata": {},
   "source": [
    "# 3.Dependent Variable WW20"
   ]
  },
  {
   "cell_type": "markdown",
   "id": "7d0cfdd9",
   "metadata": {},
   "source": [
    "**MULTIPLE Comparision is not possible due to missing DATA**\n",
    "\n",
    "Post-Hoc Comparisons, Depth "
   ]
  },
  {
   "cell_type": "code",
   "execution_count": null,
   "id": "fb91892d",
   "metadata": {},
   "outputs": [],
   "source": [
    "tukey=sm.stats.multicomp.pairwise_tukeyhsd(endog=df['WW20'],\n",
    " groups=df['Depth'],\n",
    " alpha=0.05)\n",
    "tukey.plot_simultaneous()\n",
    "print(tukey.summary())"
   ]
  },
  {
   "cell_type": "markdown",
   "id": "135f4e7d",
   "metadata": {},
   "source": [
    "**Post-Hoc Comparisons, Treatment**"
   ]
  },
  {
   "cell_type": "markdown",
   "id": "b26e35fd",
   "metadata": {},
   "source": [
    "Multile comparision is not possible due to missing Data"
   ]
  },
  {
   "cell_type": "code",
   "execution_count": null,
   "id": "49e1649f",
   "metadata": {},
   "outputs": [],
   "source": [
    "tukey=sm.stats.multicomp.pairwise_tukeyhsd(endog=df['WW20'],\n",
    " groups=df['Trt'],\n",
    " alpha=0.05)\n",
    "tukey.plot_simultaneous()\n",
    "print(tukey.summary()) "
   ]
  },
  {
   "cell_type": "code",
   "execution_count": null,
   "id": "e9dd386a",
   "metadata": {},
   "outputs": [],
   "source": [
    " \n",
    "f , axes = plt.subplots(nrows=3, ncols=3, figsize = (15,10))\n",
    "\n",
    "f1=sns.lineplot(x='Trt',y='Cl',hue='Depth',data=df, ax=axes[0,0],ci=None)\n",
    "f2=sns.lineplot(x='Trt',y='B',hue='Depth',data=df,ax=axes[0,1],ci=None)\n",
    "f3=sns.lineplot(x='Trt',y='Mn',hue='Depth',data=df,ax=axes[0,2],ci=None)\n",
    "f4=sns.lineplot(x='Trt',y='Cu',hue='Depth',data=df,ax=axes[1,0])\n",
    "f5=sns.lineplot(x='Trt',y='Fe',hue='Depth',data=df, ax=axes[1,1])\n",
    "f6=sns.lineplot(x='Trt',y='Na',hue='Depth',data=df,ax=axes[1,2])\n",
    "f7=sns.lineplot(x='Trt',y='K',hue='Depth',data=df,ax=axes[2,0])\n",
    "f8=sns.lineplot(x='Trt',y='Ca',hue='Depth',data=df,ax=axes[2,1])\n",
    "f9=sns.lineplot(x='Trt',y='Mg',hue='Depth',data=df,ax=axes[2,2])\n",
    "\n",
    "plt.show()"
   ]
  }
 ],
 "metadata": {
  "kernelspec": {
   "display_name": "Python 3 (ipykernel)",
   "language": "python",
   "name": "python3"
  },
  "language_info": {
   "codemirror_mode": {
    "name": "ipython",
    "version": 3
   },
   "file_extension": ".py",
   "mimetype": "text/x-python",
   "name": "python",
   "nbconvert_exporter": "python",
   "pygments_lexer": "ipython3",
   "version": "3.9.7"
  }
 },
 "nbformat": 4,
 "nbformat_minor": 5
}
